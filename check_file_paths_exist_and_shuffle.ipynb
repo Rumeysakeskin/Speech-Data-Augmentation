{
 "cells": [
  {
   "cell_type": "markdown",
   "id": "26adc2d0",
   "metadata": {},
   "source": [
    "# Check file paths exist"
   ]
  },
  {
   "cell_type": "code",
   "execution_count": 1,
   "id": "2b300007",
   "metadata": {},
   "outputs": [
    {
     "name": "stdout",
     "output_type": "stream",
     "text": [
      "done\n"
     ]
    }
   ],
   "source": [
    "import json\n",
    "import os\n",
    "\n",
    "aug_manifest_path = 'manifest_label1_aug_noise.jsonl'\n",
    "with open(aug_manifest_path, 'r', encoding=\"utf-8\") as f:  \n",
    "    for line in f:\n",
    "        original_file_json = json.loads(line)\n",
    "        isFile = os.path.isfile(original_file_json[\"audio_filepath\"]) \n",
    "        if isFile is False:\n",
    "            print(original_file_json[\"audio_filepath\"])\n",
    "print(\"done\")\n"
   ]
  },
  {
   "cell_type": "markdown",
   "id": "0b97c10e",
   "metadata": {},
   "source": [
    "# Load file"
   ]
  },
  {
   "cell_type": "code",
   "execution_count": 2,
   "id": "6a59d312",
   "metadata": {},
   "outputs": [
    {
     "name": "stdout",
     "output_type": "stream",
     "text": [
      "1677\n"
     ]
    }
   ],
   "source": [
    "import random\n",
    "liste = []\n",
    "aug_manifest_path = 'manifest_label1_aug_noise.jsonl'\n",
    "with open(aug_manifest_path, 'r', encoding=\"utf-8\") as f:  \n",
    "    for line in f:\n",
    "        liste.append(line) \n",
    "print(len(liste))"
   ]
  },
  {
   "cell_type": "markdown",
   "id": "fae6d6e2",
   "metadata": {},
   "source": [
    "# Shuffle the manifest file\n"
   ]
  },
  {
   "cell_type": "code",
   "execution_count": 3,
   "id": "9aa70110",
   "metadata": {},
   "outputs": [],
   "source": [
    "random.shuffle(liste)\n",
    "with open('manifest_label1_aug_noise_NEW.jsonl', 'w', encoding=\"utf-8\") as f:  \n",
    "    for line in liste:\n",
    "        f.write(line)"
   ]
  }
 ],
 "metadata": {
  "kernelspec": {
   "display_name": "Python 3 (ipykernel)",
   "language": "python",
   "name": "python3"
  },
  "language_info": {
   "codemirror_mode": {
    "name": "ipython",
    "version": 3
   },
   "file_extension": ".py",
   "mimetype": "text/x-python",
   "name": "python",
   "nbconvert_exporter": "python",
   "pygments_lexer": "ipython3",
   "version": "3.9.7"
  }
 },
 "nbformat": 4,
 "nbformat_minor": 5
}
